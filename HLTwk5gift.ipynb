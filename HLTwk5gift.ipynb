{
 "metadata": {
  "language_info": {
   "codemirror_mode": {
    "name": "ipython",
    "version": 3
   },
   "file_extension": ".py",
   "mimetype": "text/x-python",
   "name": "python",
   "nbconvert_exporter": "python",
   "pygments_lexer": "ipython3",
   "version": "3.9.5"
  },
  "orig_nbformat": 2,
  "kernelspec": {
   "name": "python3",
   "display_name": "Python 3.9.5 64-bit"
  },
  "metadata": {
   "interpreter": {
    "hash": "4e5cc9cd14a5e608bf2d863faad644aeb9ebbfc8037fed5491b2f0d6970473f9"
   }
  },
  "interpreter": {
   "hash": "4e5cc9cd14a5e608bf2d863faad644aeb9ebbfc8037fed5491b2f0d6970473f9"
  }
 },
 "nbformat": 4,
 "nbformat_minor": 2,
 "cells": [
  {
   "cell_type": "code",
   "execution_count": null,
   "metadata": {},
   "outputs": [],
   "source": [
    "import altair as alt\n",
    "import pandas as pd\n",
    "from vega_datasets import data\n",
    "\n",
    "airports = data.airports()\n",
    "\n",
    "chart = alt.Chart(airports)\n",
    "\n",
    "alt.Chart(airports.head(20)).mark_bar().encode(x='city:N', y= 'latitude:N', color= 'state:N')\n",
    "\n"
   ]
  },
  {
   "source": [
    "I have decided on this design choice because the bar chart gives a better view of what state the cities are in and also shows the latitude for that city. I have used just the first 20 as it is a large data set.\n",
    "Insights:\n",
    "-State on lowest an highest latitude\n",
    "-State with most/least number of airports."
   ],
   "cell_type": "markdown",
   "metadata": {}
  },
  {
   "cell_type": "code",
   "execution_count": null,
   "metadata": {},
   "outputs": [],
   "source": []
  }
 ]
}