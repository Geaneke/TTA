{
 "metadata": {
  "language_info": {
   "codemirror_mode": {
    "name": "ipython",
    "version": 3
   },
   "file_extension": ".py",
   "mimetype": "text/x-python",
   "name": "python",
   "nbconvert_exporter": "python",
   "pygments_lexer": "ipython3",
   "version": "3.9.5"
  },
  "orig_nbformat": 2,
  "kernelspec": {
   "name": "python395jvsc74a57bd04e5cc9cd14a5e608bf2d863faad644aeb9ebbfc8037fed5491b2f0d6970473f9",
   "display_name": "Python 3.9.5 64-bit"
  },
  "metadata": {
   "interpreter": {
    "hash": "4e5cc9cd14a5e608bf2d863faad644aeb9ebbfc8037fed5491b2f0d6970473f9"
   }
  }
 },
 "nbformat": 4,
 "nbformat_minor": 2,
 "cells": [
  {
   "cell_type": "code",
   "execution_count": 40,
   "metadata": {},
   "outputs": [
    {
     "output_type": "stream",
     "name": "stdout",
     "text": [
      "Well, Jane I have a number in my head, between 1 and 10\n",
      "Incorrect! Try again.\n"
     ]
    }
   ],
   "source": [
    "import random\n",
    "myName = input(\"Hello! May I know your name?\")\n",
    "number = random.randint(1, 10)\n",
    "print(\"Well, \" + myName +  \" I have a number in my head, between 1 and 10\")\n",
    "guess = int(input(\"Can you take a guess?\"))\n",
    "\n",
    "if guess == number:\n",
    "    print(\"Well done, \" + myName + \" You guessed right!\")\n",
    "else:\n",
    "    print(\"Incorrect! Try again.\")\n"
   ]
  },
  {
   "cell_type": "code",
   "execution_count": 39,
   "metadata": {},
   "outputs": [
    {
     "output_type": "stream",
     "name": "stdout",
     "text": [
      "Hi jake Choose your favourite number between 1 and 100, and It could win you a joke!\n",
      "Why did the bullet end up loosing his job? He got fired!\n"
     ]
    }
   ],
   "source": [
    "myName = input(\"Hello, what is your name?\")\n",
    "print(\"Hi \"  + myName +  \" Choose your favourite number between 1 and 100, and It could win you a joke!\")\n",
    "\n",
    "Number = int(input(\"What is your favourite number?: \"))\n",
    " \n",
    "# 4 numbers selected tied to a joke\n",
    "if  Number == (10):\n",
    "    print(\"Why should you never trust stairs? They're always up to something!\")\n",
    "if Number == (62):\n",
    "    print(\"Do you want to hear a construction joke? Sorry, I'm still working on it!\")\n",
    "if Number == (35):\n",
    "    print(\"What did one ocean say to the other ocean? Nothing, it just waved!\")\n",
    "if Number == (22):\n",
    "    print(\"Why did the bullet end up loosing his job? He got fired!\")\n",
    "\n",
    "else:\n",
    "    print(\"oh dear! \"  + myName +  \" there is no joke for that number, better luck next time.\") # do this if none of the 4 numbers are selected by user"
   ]
  },
  {
   "cell_type": "code",
   "execution_count": null,
   "metadata": {},
   "outputs": [],
   "source": []
  },
  {
   "cell_type": "code",
   "execution_count": 38,
   "metadata": {},
   "outputs": [
    {
     "output_type": "stream",
     "name": "stdout",
     "text": [
      "Hi pete! Hungry? place your order please.\n",
      "pete,Your favourite meal is . . . . .\n",
      "prawm rice cheesecake\n",
      "with a glass of . . . . \n",
      "apple\n"
     ]
    }
   ],
   "source": [
    "#gather the user's name and store as variable\n",
    "user_input = input(\"What is your name?\")\n",
    "print(\"Hi\", user_input + \"!\", \"Hungry? place your order please.\")\n",
    "a = input(\"What is your favourite starter?\") #stores user's response for starter as variable\n",
    "b = input(\"What is your favourite main course?\") #stores user's response for main course as variable\n",
    "c = input(\"what is your favourite desert?\") #stores user's response for dessert as variable\n",
    "d = input(\"Finally, what is your favourite drink?\") #stores user's response for drink as variable\n",
    "e = a + \" \" + b + \" \" + c\n",
    "print(user_input + \",\"  \"Your favourite meal is . . . . .\" )\n",
    "print(e)\n",
    "print(\"with a glass of . . . . \")\n",
    "print(d)\n",
    "\n",
    "\n"
   ]
  },
  {
   "cell_type": "code",
   "execution_count": 35,
   "metadata": {},
   "outputs": [
    {
     "output_type": "stream",
     "name": "stdout",
     "text": [
      "£ 2000\n£ 1800.0\n£ 1620.0\n£ 1458.0\n£ 1312.2\n£ 1180.98\n£ 1062.882\n"
     ]
    }
   ],
   "source": [
    "cost_bike = 2000\n",
    "\n",
    "while cost_bike > 1000:\n",
    "    print(\"£\", cost_bike)\n",
    "    cost_bike = cost_bike * 0.9\n",
    "\n",
    "\n",
    " \n",
    "    \n",
    "    "
   ]
  },
  {
   "cell_type": "code",
   "execution_count": 41,
   "metadata": {},
   "outputs": [
    {
     "output_type": "stream",
     "name": "stdout",
     "text": [
      "0.5\n"
     ]
    }
   ],
   "source": [
    "num1 = float(input(\"Enter your first number: \"))\n",
    "opr  = input(\"Enter operator:\")\n",
    "num2 = float(input(\"Enter your second number: \"))\n",
    "\n",
    "if opr == \"+\":\n",
    "    print(num1 + num2)\n",
    "elif opr == \"-\":\n",
    "    print(num1 - num2)\n",
    "elif opr == \"/\":\n",
    "    print(num1 / num2)\n",
    "elif opr == \"*\":\n",
    "    print(num1 * num2)\n",
    "elif opr == \"**\":\n",
    "    print(num1 ** num2)\n",
    "else:\n",
    "    print(\"invalid operator\")\n",
    "\n",
    "\n",
    "\n",
    "\n"
   ]
  },
  {
   "cell_type": "code",
   "execution_count": null,
   "metadata": {},
   "outputs": [],
   "source": []
  }
 ]
}