{
  "nbformat": 4,
  "nbformat_minor": 0,
  "metadata": {
    "colab": {
      "name": "HLTwk3NPy",
      "provenance": [],
      "collapsed_sections": [],
      "authorship_tag": "ABX9TyPsd6JQkVlevFoSouf7U3aO",
      "include_colab_link": true
    },
    "kernelspec": {
      "name": "python3",
      "display_name": "Python 3"
    },
    "language_info": {
      "name": "python"
    }
  },
  "cells": [
    {
      "cell_type": "markdown",
      "metadata": {
        "id": "view-in-github",
        "colab_type": "text"
      },
      "source": [
        "<a href=\"https://colab.research.google.com/github/Geaneke/TTA/blob/main/HLTwk3NPy.ipynb\" target=\"_parent\"><img src=\"https://colab.research.google.com/assets/colab-badge.svg\" alt=\"Open In Colab\"/></a>"
      ]
    },
    {
      "cell_type": "code",
      "metadata": {
        "id": "qlnC_OqHQ5nY"
      },
      "source": [
        "import numpy as np\n",
        "\n",
        "array = np.array([0,1,2,3,4,5,6,7,8,9])\n",
        "\n",
        "print(array)"
      ],
      "execution_count": null,
      "outputs": []
    },
    {
      "cell_type": "code",
      "metadata": {
        "id": "304RO9aWRyXc"
      },
      "source": [
        "import numpy as np\n",
        "\n",
        "array = np.array([0,1,2,3,4,5,6,7,8,])\n",
        "   \n",
        "np.ones((3,3), dtype=bool)\n",
        "\n",
        "\n",
        "\n",
        "\n"
      ],
      "execution_count": null,
      "outputs": []
    },
    {
      "cell_type": "code",
      "metadata": {
        "id": "PErBiFUbgw9B"
      },
      "source": [
        "import numpy as np\n",
        "\n",
        "array = np.array([1,2,3,4,5,6,7,8,9,10])\n",
        "\n",
        "d = np.where(array%2 ==0)\n",
        "\n",
        "print(d)\n",
        "\n"
      ],
      "execution_count": null,
      "outputs": []
    },
    {
      "cell_type": "code",
      "metadata": {
        "id": "AUw1MGbfWrrw"
      },
      "source": [
        "import numpy as np\n",
        "\n",
        "array = np.array([1,2,3,4,5,6,7,8,9,10])\n",
        "\n",
        "array[0:10:2] = -1\n",
        "\n",
        "print(array)\n",
        "\n",
        "  \n",
        "\n",
        "\n",
        "\n"
      ],
      "execution_count": null,
      "outputs": []
    },
    {
      "cell_type": "code",
      "metadata": {
        "id": "RSVlZCWYnETq"
      },
      "source": [
        "import numpy as np\n",
        "\n",
        "array = np.array([3,6,9,12,15,18])\n",
        "\n",
        "new_shape = array.reshape(2,3)\n",
        "\n",
        "print(new_shape)"
      ],
      "execution_count": null,
      "outputs": []
    }
  ]
}