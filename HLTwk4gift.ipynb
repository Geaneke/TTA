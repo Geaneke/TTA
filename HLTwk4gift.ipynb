{
  "nbformat": 4,
  "nbformat_minor": 0,
  "metadata": {
    "colab": {
      "name": "HLTwk4gift.ipynb",
      "provenance": [],
      "collapsed_sections": [],
      "authorship_tag": "ABX9TyOtysQtwtRvlcATOK73sCYW",
      "include_colab_link": true
    },
    "kernelspec": {
      "name": "python3",
      "display_name": "Python 3"
    },
    "language_info": {
      "name": "python"
    }
  },
  "cells": [
    {
      "cell_type": "markdown",
      "metadata": {
        "id": "view-in-github",
        "colab_type": "text"
      },
      "source": [
        "<a href=\"https://colab.research.google.com/github/Geaneke/TTA/blob/main/HLTwk4gift.ipynb\" target=\"_parent\"><img src=\"https://colab.research.google.com/assets/colab-badge.svg\" alt=\"Open In Colab\"/></a>"
      ]
    },
    {
      "cell_type": "code",
      "metadata": {
        "id": "4XuH1NuN04sj"
      },
      "source": [
        "\n",
        "import pandas as pd\n",
        "\n",
        "data = pd.read_csv(\"Holiday_Destinations.csv\")\n",
        "\n",
        "data.shape\n"
      ],
      "execution_count": null,
      "outputs": []
    },
    {
      "cell_type": "code",
      "metadata": {
        "id": "v0jt3CDZa6vw"
      },
      "source": [
        "import pandas as pd\n",
        "\n",
        "data = pd.read_csv(\"Holiday_Destinations.csv\")\n",
        "\n",
        "print(data.iloc[2:8])\n"
      ],
      "execution_count": null,
      "outputs": []
    },
    {
      "cell_type": "code",
      "metadata": {
        "id": "GNwAvmugFN2e"
      },
      "source": [
        "import pandas as pd\n",
        "\n",
        "data = pd.read_csv(\"Holiday_Destinations.csv\")\n",
        "\n",
        "print(data['All_inclusive '].mean())"
      ],
      "execution_count": null,
      "outputs": []
    },
    {
      "cell_type": "code",
      "metadata": {
        "id": "mUFIoFRkHsA_"
      },
      "source": [
        "import pandas as pd\n",
        "\n",
        "data = pd.read_csv(\"Holiday_Destinations.csv\")\n",
        "\n",
        "print(data['Destinations  '] , data['Feedback_score'].min())\n",
        "\n"
      ],
      "execution_count": null,
      "outputs": []
    },
    {
      "cell_type": "code",
      "metadata": {
        "id": "htKcOb0aNwB4"
      },
      "source": [
        "import pandas as pd\n",
        "\n",
        "data = pd.read_csv(\"Holiday_Destinations.csv\")\n",
        "\n",
        "myfilter = data['Feedback_score' ] >=9\n",
        "\n",
        "print(data['Destinations  ' ], myfilter)\n",
        "\n",
        "\n"
      ],
      "execution_count": null,
      "outputs": []
    },
    {
      "cell_type": "code",
      "metadata": {
        "id": "RDrGTpvygG1S"
      },
      "source": [
        "import pandas as pd\n",
        "\n",
        "data = pd.read_csv(\"Holiday_Destinations.csv\")\n",
        "\n",
        "myfilter = data['All_inclusive '] >9\n",
        "\n",
        "print(data['Destinations  '], myfilter)\n",
        "\n"
      ],
      "execution_count": null,
      "outputs": []
    },
    {
      "cell_type": "code",
      "metadata": {
        "id": "W-e9fwInhSCL"
      },
      "source": [
        "import pandas as pd\n",
        "\n",
        "data = pd.read_csv(\"Holiday_Destinations.csv\")\n",
        "\n",
        "myfilter = data['Feedback_score'] >8\n",
        "\n",
        "print(data['Destinations  '], myfilter)"
      ],
      "execution_count": null,
      "outputs": []
    },
    {
      "cell_type": "code",
      "metadata": {
        "id": "WIxeoJK_h6WT"
      },
      "source": [
        "import pandas as pd\n",
        "\n",
        "data = pd.read_csv(\"Holiday_Destinations.csv\")\n",
        "\n",
        "myfilter = data['Feedback_score'] <2\n",
        "\n",
        "print(data['Destinations  '], myfilter)"
      ],
      "execution_count": null,
      "outputs": []
    }
  ]
}