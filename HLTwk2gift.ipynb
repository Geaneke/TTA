{
 "metadata": {
  "language_info": {
   "codemirror_mode": {
    "name": "ipython",
    "version": 3
   },
   "file_extension": ".py",
   "mimetype": "text/x-python",
   "name": "python",
   "nbconvert_exporter": "python",
   "pygments_lexer": "ipython3",
   "version": "3.9.5"
  },
  "orig_nbformat": 2,
  "kernelspec": {
   "name": "python395jvsc74a57bd04e5cc9cd14a5e608bf2d863faad644aeb9ebbfc8037fed5491b2f0d6970473f9",
   "display_name": "Python 3.9.5 64-bit"
  },
  "metadata": {
   "interpreter": {
    "hash": "4e5cc9cd14a5e608bf2d863faad644aeb9ebbfc8037fed5491b2f0d6970473f9"
   }
  }
 },
 "nbformat": 4,
 "nbformat_minor": 2,
 "cells": [
  {
   "cell_type": "code",
   "execution_count": null,
   "metadata": {},
   "outputs": [],
   "source": [
    "option1 = (\"option1\") #uniform only\n",
    "option2 = (\"option2\") #uniform and PE kit\n",
    "option3 = (\"option3\") #uniform and Pumps\n",
    "option4 = (\"option4\") #uniform and Socks\n",
    "option5 = (\"option5\") #uniform, PE kit and Pumps\n",
    "option6 = (\"option6\") #uniform, PE kit and Socks\n",
    "option7 = (\"option7\") #uniform, PE kit, Pumps and Socks\n",
    "\n",
    "order_options = input(\"select an option between option1 and option7: \")\n",
    "if (order_options == option1):\n",
    "    print(\"Please make your payment for uniform\")\n",
    "elif (order_options == option2):\n",
    "    print(\"Please make your payment for uniform and PE kit\")\n",
    "elif (order_options == option3):\n",
    "    print(\"Please make your payment for uniform and Pumps\")\n",
    "elif (order_options == option4):\n",
    "    print(\"Please make your payment for uniform and Socks\")\n",
    "elif (order_options == option5):\n",
    "    print(\"Please make your payment for uniform, PE kit and Pumps\")\n",
    "elif (order_options == option6):\n",
    "    print(\"Please make your payment for uniform, PE kit and Socks\")\n",
    "elif (order_options == option7):\n",
    "    print(\"Please make your payment for uniform, PE kit, Pumps and Socks\")\n",
    "else:\n",
    "    print(\"That option is not available\")\n"
   ]
  },
  {
   "cell_type": "code",
   "execution_count": null,
   "metadata": {},
   "outputs": [],
   "source": []
  },
  {
   "cell_type": "code",
   "execution_count": null,
   "metadata": {},
   "outputs": [],
   "source": [
    "cost_bike = 2000\n",
    "\n",
    "while cost_bike > 1000:\n",
    "    print(\"£\", cost_bike)\n",
    "    cost_bike = cost_bike * 0.9\n",
    "def calculate(cost_bike):\n",
    "    cost_bike = cost_bike * 0.9\n",
    "\n",
    "    calculate (cost_bike)\n",
    "\n",
    "\n",
    "\n",
    "\n",
    "   \n",
    "\n",
    "    "
   ]
  },
  {
   "cell_type": "code",
   "execution_count": null,
   "metadata": {},
   "outputs": [],
   "source": []
  },
  {
   "cell_type": "code",
   "execution_count": null,
   "metadata": {},
   "outputs": [],
   "source": [
    "num1 = float(input(\"Enter your first number: \"))\n",
    "opr  = input(\"Enter operator:\")\n",
    "num2 = float(input(\"Enter your second number: \"))     \n",
    "    \n",
    "\n",
    "def add(num1, num2):\n",
    "    print (num1, \"+\", num2, \"=\", num1 + num2)\n",
    "\n",
    "def sub(num1, num2):\n",
    "    print (num1, \"-\", num2, \"=\", num1 - num2)\n",
    "\n",
    "def div(num1, num2):\n",
    "    print (num1, \"/\", num2, \"=\", num1 / num2)\n",
    "\n",
    "def mul(num1, num2):\n",
    "    print (num1, \"*\", num2, \"=\", num1 * num2)\n",
    "\n",
    "def sqr(num1, num2):\n",
    "    print (num1, \"**\", num2, \"=\", num1 ** num2)\n",
    "\n",
    "if opr == \"+\":\n",
    "    print(num1 + num2)\n",
    "elif opr == \"-\":\n",
    "    print(num1 - num2)\n",
    "elif opr == \"/\":\n",
    "    print(num1 / num2)\n",
    "elif opr == \"*\":\n",
    "    print(num1 * num2)\n",
    "elif opr == \"**\":\n",
    "    print(num1 ** num2)\n",
    "else:\n",
    "    print(\"invalid operator \")\n",
    "\n",
    "    \n",
    "\n",
    "\n",
    "\n",
    "\n",
    "    "
   ]
  },
  {
   "cell_type": "code",
   "execution_count": null,
   "metadata": {},
   "outputs": [],
   "source": [
    "\n",
    "    \n",
    "\n",
    "    \n",
    "   \n",
    "\n",
    "\n",
    "\n",
    "    "
   ]
  },
  {
   "cell_type": "code",
   "execution_count": null,
   "metadata": {},
   "outputs": [],
   "source": []
  }
 ]
}