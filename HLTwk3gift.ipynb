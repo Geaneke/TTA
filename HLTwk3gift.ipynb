{
 "metadata": {
  "language_info": {
   "codemirror_mode": {
    "name": "ipython",
    "version": 3
   },
   "file_extension": ".py",
   "mimetype": "text/x-python",
   "name": "python",
   "nbconvert_exporter": "python",
   "pygments_lexer": "ipython3",
   "version": "3.9.5"
  },
  "orig_nbformat": 2,
  "kernelspec": {
   "name": "python395jvsc74a57bd04e5cc9cd14a5e608bf2d863faad644aeb9ebbfc8037fed5491b2f0d6970473f9",
   "display_name": "Python 3.9.5 64-bit"
  },
  "metadata": {
   "interpreter": {
    "hash": "4e5cc9cd14a5e608bf2d863faad644aeb9ebbfc8037fed5491b2f0d6970473f9"
   }
  }
 },
 "nbformat": 4,
 "nbformat_minor": 2,
 "cells": [
  {
   "cell_type": "code",
   "execution_count": null,
   "metadata": {},
   "outputs": [],
   "source": [
    "my_file = open(\"numbers.text\", \"r\")\n",
    "print(my_file.read())\n",
    "#first number was stored in file using the 'w' command, while the remaining numbers were stored using the 'a' command. The current code is set to read from the file using the 'r' command.\n",
    "my_file.close()"
   ]
  },
  {
   "source": [
    "def mark_grade(percentage_score): \n",
    "    grade = (\"A\", \"B\", \"C\", \"fail\")      \n",
    "    return (grade)\n",
    "\n",
    "percentage_score = float(input(\"Enter your percentage mark: \"))\n",
    "if  80 <= percentage_score <= 100:\n",
    "        print (\"A\")\n",
    "elif 65 <= percentage_score <= 79:\n",
    "        print (\"B\")\n",
    "elif 50 <= percentage_score <= 64:\n",
    "        print (\"C\")\n",
    "elif 0 <= percentage_score <= 49:\n",
    "        print (\"Fail\")\n",
    "else:\n",
    "        print (\"invalid marks\")\n",
    "\n",
    "\n",
    "    \n",
    "\n",
    "\n",
    "    \n"
   ],
   "cell_type": "code",
   "metadata": {},
   "execution_count": null,
   "outputs": []
  },
  {
   "cell_type": "code",
   "execution_count": null,
   "metadata": {},
   "outputs": [],
   "source": []
  }
 ]
}